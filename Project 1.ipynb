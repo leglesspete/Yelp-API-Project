{
 "cells": [
  {
   "cell_type": "markdown",
   "id": "defined-comedy",
   "metadata": {},
   "source": [
    "# Phase 1 Project\n",
    "\n",
    "## Introduction\n",
    "\n",
    "Congratulations on completing phase 1! In this notebook, you will complete a final project that applies your python and visualization skills to real word business data. \n",
    "\n",
    "## Objectives \n",
    "In this project, you will...\n",
    "- Read in data that has been stored as a `json` file.\n",
    "- Describe how the data is structured.\n",
    "- Use Python to filter a nested data structure\n",
    "- Define python functions\n",
    "- Calculate descriptive statistics\n",
    "- Visualize data via matplotlib\n",
    "\n",
    "\n",
    "# Task: Compare New York Pizza Restaurants with Above Average and Below Average Ratings\n",
    "![Pizza gif](https://media.giphy.com/media/eK1eFdpj5kMWqZ9bLJ/giphy.gif?cid=ecf05e47rkbp48nwz3za6dloo8xfwzueu0rx2vklguo7xyhu&rid=giphy.gif&ct=g)\n",
    "\n",
    "## Business Understanding \n",
    "\n",
    "A client at your analytics firm is considering opening a pizza restaurant in New York City. \n",
    "\n",
    "They have asked you to develop a business intelligence report to fact check the following claims:\n",
    "1. Your client wants to ensure they have an above average Yelp rating. They have previously owned restuarants in other cities, where a `3` was the average. They would like to know if that holds true in New York City. \n",
    "1. Your client has noticed that restaurants on yelp with a high review count seem to be quite successful. They have decided to focus on maximizing their review count which they believe will allow them to have an above average overall review. \n",
    "1. After looking at a few restaurants on Yelp, your client believes that most above average restaurants have a price point of `$$`. They are considering increasing their prices from `$` to `$$` to match the majority of above average restaurants, and would like you to find the most common price point for above average restaurants in New York City.\n",
    "1. In terms of location they have been told that above average restaurants are usually further east and below average are usually further west, but that the biggest difference is whether the restaurant is on the north or south side. They would like you to determine if the data supports this claim.\n",
    "1. They believe that the `10012` zipcode in New York City is the best place to open a restaurant. They wish to open a restaurant in close proximity to other highly rated restaurants, and they believe `10012` has the most in NYC.\n",
    "\n",
    "\n",
    "\n",
    "The primary purpose of this analysis is _descriptive_, meaning your analysis should report calculated statistics such as `counts` and `mean`, and should be focused on providing a simple, factual, understanding of the data. \n",
    "\n",
    "\n",
    "## Data Understanding\n",
    "\n",
    "You have been provided a Yelp dataset containing information about restaurants in New York City. The data is named `pizza_businesses.json` and is stored in the current working directory. You will need to load in this dataset, inspect how the data is structured, and use the provided information to fact check your client's claims. "
   ]
  },
  {
   "cell_type": "markdown",
   "id": "fundamental-explanation",
   "metadata": {},
   "source": [
    "## Load the data\n",
    "\n",
    "A dataset containing information about New York pizza restaurants is stored in this notebook's repository with the name `pizza_businesses.json`.\n",
    "\n",
    "In the cell below, load the json data into a python dictionary."
   ]
  },
  {
   "cell_type": "code",
   "execution_count": 2,
   "id": "finnish-hardwood",
   "metadata": {},
   "outputs": [],
   "source": [
    "# Import the json python package\n",
    "import json\n",
    "\n",
    "# Load in the data\n",
    "with open('pizza_businesses.json') as f:\n",
    "    data = json.load(f)\n",
    "#print(type(data))"
   ]
  },
  {
   "cell_type": "markdown",
   "id": "enormous-operation",
   "metadata": {},
   "source": [
    "## Describe the data\n",
    "\n",
    "Now that you've loaded in the dataset, the structure of the data should be inspected.\n",
    "\n",
    "In the cell below, evaluate \n",
    "- The datatype of the overall dataset\n",
    "- The datatype of a single observation\n",
    "- The number of observations, and then\n",
    "- Isolate the first observation in the dataset"
   ]
  },
  {
   "cell_type": "code",
   "execution_count": 3,
   "id": "false-afghanistan",
   "metadata": {},
   "outputs": [],
   "source": [
    "# Replace None with your code!\n",
    "\n",
    "# Find the datatype for the overall dataset\n",
    "dataset_type = type(data)\n",
    "# Isolate the first observation\n",
    "first_observation = data[0]\n",
    "# Find the datatype for the first observation\n",
    "observation_type = type(data[0])\n",
    "# How many observations are there\n",
    "num_observations = len(data)"
   ]
  },
  {
   "cell_type": "markdown",
   "id": "canadian-wheel",
   "metadata": {},
   "source": [
    "Run this following cell unchanged to print out descriptive information for the dataset!"
   ]
  },
  {
   "cell_type": "code",
   "execution_count": 4,
   "id": "surprised-keyboard",
   "metadata": {},
   "outputs": [
    {
     "name": "stdout",
     "output_type": "stream",
     "text": [
      "The dataset is a \u001b[1m<class 'list'>\u001b[0m\n",
      "The observations are a \u001b[1m<class 'dict'>\u001b[0m\n",
      "There are \u001b[1m1000 observations.\u001b[0m\n",
      "\u001b[1m\n",
      "The first observation:\u001b[0m\n",
      "==========================================\n",
      "{'latitude': 40.72308755605564,\n",
      " 'location': {'address1': '27 Prince St',\n",
      "              'address2': None,\n",
      "              'address3': '',\n",
      "              'city': 'New York',\n",
      "              'country': 'US',\n",
      "              'display_address': ['27 Prince St', 'New York, NY 10012'],\n",
      "              'state': 'NY',\n",
      "              'zip_code': '10012'},\n",
      " 'longitude': -73.99453001177575,\n",
      " 'name': 'Prince Street Pizza',\n",
      " 'phone': '+12129664100',\n",
      " 'price': '\\\\$',\n",
      " 'rating': 4.5,\n",
      " 'review_count': 3976,\n",
      " 'transactions': ['delivery', 'pickup']}\n",
      "==========================================\n"
     ]
    }
   ],
   "source": [
    "from pprint import pprint\n",
    "\n",
    "print(f'The dataset is a \\033[1m{dataset_type}\\033[0m')\n",
    "print(f'The observations are a \\033[1m{observation_type}\\033[0m',)\n",
    "print(f'There are \\033[1m{num_observations} observations.\\033[0m')\n",
    "print('\\033[1m\\nThe first observation:\\033[0m')\n",
    "print('==========================================')\n",
    "pprint(first_observation)\n",
    "print('==========================================')"
   ]
  },
  {
   "cell_type": "markdown",
   "id": "atlantic-application",
   "metadata": {},
   "source": [
    "## Find the possible rating options. \n",
    "\n",
    "In the cell below, create a variable called `rating_options` that has a [set datatype](https://realpython.com/python-sets/), and is a unique collection of the possible ratings a restaurant can recieve."
   ]
  },
  {
   "cell_type": "code",
   "execution_count": 5,
   "id": "broke-array",
   "metadata": {},
   "outputs": [
    {
     "data": {
      "text/plain": [
       "{1.0, 2.0, 2.5, 3.0, 3.5, 4.0, 4.5, 5.0}"
      ]
     },
     "execution_count": 5,
     "metadata": {},
     "output_type": "execute_result"
    }
   ],
   "source": [
    "# Create the `rating_options` variable\n",
    "rating_options = set()\n",
    "\n",
    "# Loop over all of the observations in the dataset\n",
    "\n",
    "\n",
    "    # Isolate the rating for the restaurant\n",
    "for restaurant in data:\n",
    "    \n",
    "    # Add the rating to \n",
    "    # the `rating_options` variable\n",
    "    rating_options.add(restaurant['rating'])\n",
    "    \n",
    "rating_options"
   ]
  },
  {
   "cell_type": "markdown",
   "id": "aquatic-fourth",
   "metadata": {},
   "source": [
    "Run the next cell unchanged to test your work!\n",
    "> If the below cell runs without throwing an error, your code is likely correct!"
   ]
  },
  {
   "cell_type": "code",
   "execution_count": 6,
   "id": "czech-spring",
   "metadata": {},
   "outputs": [],
   "source": [
    "assert type(rating_options) == set\n",
    "assert len(rating_options) == 8\n",
    "assert list(rating_options)[0] != list(rating_options)[1]"
   ]
  },
  {
   "cell_type": "markdown",
   "id": "charitable-oracle",
   "metadata": {},
   "source": [
    "## Plot the distribution for ratings\n",
    "\n",
    "Now that you know what rating options are available, in the cell below plot a histogram showing the distribution of ratings. "
   ]
  },
  {
   "cell_type": "code",
   "execution_count": 6,
   "id": "electric-grocery",
   "metadata": {},
   "outputs": [
    {
     "name": "stdout",
     "output_type": "stream",
     "text": [
      "4.016\n"
     ]
    },
    {
     "data": {
      "image/png": "[encoded data removed]",
      "text/plain": [
       "<Figure size 864x576 with 1 Axes>"
      ]
     },
     "metadata": {
      "needs_background": "light"
     },
     "output_type": "display_data"
    }
   ],
   "source": [
    "# Import matplotlib's pyplot module\n",
    "import matplotlib.pyplot as plt\n",
    "%matplotlib inline\n",
    "\n",
    "# Create an empty list.\n",
    "# We will store all ratings in this list\n",
    "ratings = []\n",
    "\n",
    "# Loop over every restaurant in the dataset\n",
    "for restaurant in data:\n",
    "\n",
    "    # Isolate the rating\n",
    "    rating = restaurant['rating']\n",
    "   \n",
    "    # Append the rating to the `ratings` list\n",
    "    ratings.append(rating)\n",
    "\n",
    "#AVerage calculation for own interest.    \n",
    "#print(sum(ratings)/len(ratings))\n",
    "    \n",
    "# Create a matplotlib subplot\n",
    "fig, ax = plt.subplots(figsize=(12,8))\n",
    "\n",
    "\n",
    "# Plot a histogram of the ratings list\n",
    "ax.hist(ratings, edgecolor = 'black')\n",
    "ax.vlines(x=sum(ratings)/len(ratings), ymin=0, ymax=450,colors ='r')\n",
    "ax.set_title('Restaurant Ratings')\n",
    "ax.set_ylabel('Number of Restaurants')\n",
    "ax.set_xlabel('Rating');"
   ]
  },
  {
   "cell_type": "markdown",
   "id": "digital-marshall",
   "metadata": {},
   "source": [
    "**Interpret the ratings histogram. How does the visualization relate to your client's claims?**"
   ]
  },
  {
   "cell_type": "markdown",
   "id": "adjusted-sterling",
   "metadata": {},
   "source": [
    "Looking at the histogram above, less than 50 restaurants out of 1000 have a rating of 3 or less. As such New York City will have an average Yelp rating above 3.  I have included a red verticle line that displays the actual average, which is approx 4. "
   ]
  },
  {
   "cell_type": "markdown",
   "id": "martial-receiver",
   "metadata": {},
   "source": [
    "## Isolate the restaurants with an above average rating\n",
    "\n",
    "Now that you have an understanding for what is an average rating, next you will isolate restaurants with above average and below average ratings so you can compare them.\n",
    "\n",
    "In the cell below, filter out all restaurants that do not have a rating of at least `4.5`."
   ]
  },
  {
   "cell_type": "code",
   "execution_count": 8,
   "id": "possible-arrest",
   "metadata": {},
   "outputs": [],
   "source": [
    "# Create an empty list\n",
    "# You will store restaurants in this list\n",
    "above_average = []\n",
    "\n",
    "# Loop over the dataset\n",
    "for restaurant in data:\n",
    "\n",
    "    # Isolate the rating\n",
    "    rating = restaurant['rating']\n",
    "    \n",
    "    # Check if the rating is at least 4.5\n",
    "    if rating >= 4.5:\n",
    "        # If the rating is at least 4.5\n",
    "        # Add the restaurant to the list\n",
    "        above_average.append(restaurant)"
   ]
  },
  {
   "cell_type": "markdown",
   "id": "compressed-timeline",
   "metadata": {},
   "source": [
    "Run the next cell unchanged to test your work!\n",
    "> If the below cell runs without throwing an error, your code is likely correct!"
   ]
  },
  {
   "cell_type": "code",
   "execution_count": 10,
   "id": "falling-argentina",
   "metadata": {},
   "outputs": [],
   "source": [
    "assert type(above_average) == list\n",
    "assert type(above_average[0]) == dict\n",
    "assert len(above_average) == 306"
   ]
  },
  {
   "cell_type": "markdown",
   "id": "elder-petersburg",
   "metadata": {},
   "source": [
    "## Isolate restaurants with a below average rating\n",
    "\n",
    "Now repeat the process for below average ratings.\n",
    "\n",
    "In the cell below, isolate restaurants that have a rating of no more than `3.5`."
   ]
  },
  {
   "cell_type": "code",
   "execution_count": 11,
   "id": "intense-deviation",
   "metadata": {},
   "outputs": [],
   "source": [
    "# Create an empty list\n",
    "# You will store restaurants in this list\n",
    "below_average = []\n",
    "\n",
    "# Loop over the restaurants in the dataset\n",
    "for restaurant in data:\n",
    "\n",
    "    # Isolate the rating\n",
    "    rating = restaurant['rating']\n",
    "    \n",
    "    # Check if the rating is no more than 3.5\n",
    "    if rating <= 3.5:\n",
    "    \n",
    "        # If the rating no more than 3.5\n",
    "        # Add the restaurant to the list\n",
    "        below_average.append(restaurant)"
   ]
  },
  {
   "cell_type": "markdown",
   "id": "congressional-airline",
   "metadata": {},
   "source": [
    "Run the next cell unchanged to test your work!\n",
    "> If the below cell runs without throwing an error, your code is likely correct!"
   ]
  },
  {
   "cell_type": "code",
   "execution_count": 12,
   "id": "engaged-resident",
   "metadata": {},
   "outputs": [],
   "source": [
    "assert type(below_average) == list\n",
    "assert type(below_average[0]) == dict\n",
    "assert len(below_average) == 247"
   ]
  },
  {
   "cell_type": "markdown",
   "id": "competitive-roommate",
   "metadata": {},
   "source": [
    "## Calculate average review counts for both groups\n",
    "\n",
    "Now that you've isolated above average and below average restaurants, you can calculate the average number of reviews received by both groups.\n",
    "\n",
    "To do this, you will need to isolate the review counts for both groups, and calculate their average. \n",
    "\n",
    "The code for isolating the review counts will look very similar to code you have previously written, which is a good sign that a function should be defined!\n",
    "\n",
    "In the cell below, define a function called `isolate_values` that receives two arguments:\n",
    "1. A list of dictionaries\n",
    "2. A string indicating the key that should be isolated for each dictionary\n",
    "\n",
    "This function should:\n",
    "- Loop over every dictionary in the inputted list\n",
    "- Pull out the value assigned to the inputted key\n",
    "- Append the value to a new list\n",
    "- Return the new list of values"
   ]
  },
  {
   "cell_type": "code",
   "execution_count": 13,
   "id": "efficient-kingdom",
   "metadata": {},
   "outputs": [],
   "source": [
    "def isolate_values(dictionaries, key):\n",
    "    # Create an empty list\n",
    "    # for storing data\n",
    "    value_list = []\n",
    "    \n",
    "    # Loop over every dicionary \n",
    "    for dict in dictionaries:\n",
    "        \n",
    "        # Isolate the value of the dictionary with the `key`\n",
    "        key_val = dict[key]\n",
    "        \n",
    "        # Append the value to the list\n",
    "        value_list.append(key_val)\n",
    "    \n",
    "    # Return the list of values\n",
    "    return value_list"
   ]
  },
  {
   "cell_type": "markdown",
   "id": "extended-portal",
   "metadata": {},
   "source": [
    "Run the next cell unchanged to test your work!\n",
    "> If the below cell runs without throwing an error, your code is likely correct!"
   ]
  },
  {
   "cell_type": "code",
   "execution_count": 14,
   "id": "yellow-phoenix",
   "metadata": {},
   "outputs": [],
   "source": [
    "from types import FunctionType\n",
    "\n",
    "assert type(isolate_values) == FunctionType\n",
    "assert type(isolate_values([{'test': 1}], 'test')) == list\n",
    "assert len(isolate_values([{'test': 1}], 'test')) == 1\n",
    "assert len(isolate_values(above_average, 'name')) == len(above_average)\n",
    "assert isolate_values(above_average, 'name')[-1] == above_average[-1]['name']"
   ]
  },
  {
   "cell_type": "markdown",
   "id": "outer-assembly",
   "metadata": {},
   "source": [
    "Now use the `isolate_values` function to create a list called `abv_avg_rev_cnts` that contains the review counts for every above average restaurant."
   ]
  },
  {
   "cell_type": "code",
   "execution_count": 15,
   "id": "useful-halloween",
   "metadata": {},
   "outputs": [],
   "source": [
    "# Replace None with your code\n",
    "abv_avg_rev_cnts = isolate_values(above_average,'review_count')"
   ]
  },
  {
   "cell_type": "markdown",
   "id": "severe-amateur",
   "metadata": {},
   "source": [
    "Now use the `isolate_values` function to create a list called `blw_avg_rev_cnts` that contains the review counts for every below average restaurant."
   ]
  },
  {
   "cell_type": "code",
   "execution_count": 16,
   "id": "herbal-interim",
   "metadata": {},
   "outputs": [],
   "source": [
    "# Replace None with your code\n",
    "blw_avg_rev_cnts = isolate_values(below_average,'review_count')"
   ]
  },
  {
   "cell_type": "markdown",
   "id": "executive-hormone",
   "metadata": {},
   "source": [
    "Run the next cell unchanged to test your work!\n",
    "> If the below cell runs without throwing an error, your code is likely correct!"
   ]
  },
  {
   "cell_type": "code",
   "execution_count": 17,
   "id": "utility-pharmacy",
   "metadata": {},
   "outputs": [],
   "source": [
    "assert type(abv_avg_rev_cnts) == list\n",
    "assert type(abv_avg_rev_cnts[0]) == int\n",
    "assert type(blw_avg_rev_cnts) == list\n",
    "assert type(blw_avg_rev_cnts[0]) == int\n",
    "assert len(abv_avg_rev_cnts) == len(above_average)\n",
    "assert len(blw_avg_rev_cnts) == len(below_average)\n",
    "assert abv_avg_rev_cnts[101] == above_average[101]['review_count']\n",
    "assert blw_avg_rev_cnts[101] == below_average[101]['review_count']"
   ]
  },
  {
   "cell_type": "markdown",
   "id": "verbal-pressing",
   "metadata": {},
   "source": [
    "Now that you've isolated the review counts for both groups, you can calculate the average review count!\n",
    "\n",
    "But before you do that, you should inspect the distribution of review counts to make sure `mean` is an appropriate measure of centrality.\n",
    "\n",
    "In the cell below, we plot a histogram for above average and below average restaurant review counts."
   ]
  },
  {
   "cell_type": "code",
   "execution_count": 18,
   "id": "wooden-viking",
   "metadata": {},
   "outputs": [
    {
     "data": {
      "image/png": "[encoded data removed]",
      "text/plain": [
       "<Figure size 1080x432 with 2 Axes>"
      ]
     },
     "metadata": {
      "needs_background": "light"
     },
     "output_type": "display_data"
    }
   ],
   "source": [
    "# Initialize a matplotlib subplot\n",
    "# with 1 row and 2 columns\n",
    "fig, ax = plt.subplots(1,2, figsize=(15,6))\n",
    "\n",
    "# Plot a histogram of below average review counts\n",
    "# on the first axis\n",
    "ax[0].hist(blw_avg_rev_cnts, edgecolor = 'black')\n",
    "ax[0].set_ylim(0,300)\n",
    "\n",
    "# Set the title for the first axis\n",
    "# to \"Below Average - Review Counts\"\n",
    "ax[0].set_title('Below Average - Review Counts')\n",
    "\n",
    "# Plot a histogram of above average review counts\n",
    "# on the first axis\n",
    "ax[1].hist(abv_avg_rev_cnts, edgecolor = 'black')\n",
    "ax[1].set_ylim(0,300)\n",
    "\n",
    "# Set the title for the first axis\n",
    "# to \"Above Average - Review Counts\"\n",
    "ax[1].set_title('Above Average - Review Counts');"
   ]
  },
  {
   "cell_type": "markdown",
   "id": "regulation-radius",
   "metadata": {},
   "source": [
    "\n",
    "**Interpret the above visualizations. What statistic is best suited for these data?**"
   ]
  },
  {
   "cell_type": "markdown",
   "id": "atmospheric-trauma",
   "metadata": {},
   "source": [
    "In both below average restaurants and above average restaurants, the majority of restaurants have between 0 and 500 reviews, with the number of restaurants having above 1000 reviews being minimal for both groups. The range of review counts means that detail is lost within the 0-500 range where the bulk of restaurants fall. A more useful statistic will be the mean number of reviews for each group."
   ]
  },
  {
   "cell_type": "markdown",
   "id": "continuous-mills",
   "metadata": {},
   "source": [
    "In the cell below, calculate the average review count for above average and below average restaurants."
   ]
  },
  {
   "cell_type": "code",
   "execution_count": 19,
   "id": "terminal-morrison",
   "metadata": {},
   "outputs": [
    {
     "name": "stdout",
     "output_type": "stream",
     "text": [
      "Above average review count: 189.39\n",
      "Below average review count: 286.0\n"
     ]
    }
   ],
   "source": [
    "# Import numpy\n",
    "import numpy as np\n",
    "\n",
    "# Replace None with your code\n",
    "abv_avg_rev_cnt_center = round(sum(abv_avg_rev_cnts)/len(abv_avg_rev_cnts),2)\n",
    "blw_avg_rev_cnt_center = round(sum(blw_avg_rev_cnts)/len(blw_avg_rev_cnts),2)\n",
    "\n",
    "print('Above average review count:', abv_avg_rev_cnt_center)\n",
    "print('Below average review count:', blw_avg_rev_cnt_center)"
   ]
  },
  {
   "cell_type": "markdown",
   "id": "sitting-associate",
   "metadata": {},
   "source": [
    "**Interpret the average review count for both groups. How does this relate to your client's claims?**"
   ]
  },
  {
   "cell_type": "markdown",
   "id": "stunning-setup",
   "metadata": {},
   "source": [
    "The belief that a larger number of reviews will lead to a higher than average review rating is not born out. Instead the average review count for below average restaurants is higher than that of the above average restaurants."
   ]
  },
  {
   "cell_type": "markdown",
   "id": "fallen-dress",
   "metadata": {},
   "source": [
    "## Count the price option frequency\n",
    "\n",
    "The `price` variable in the dataset is a string of dollar signs indicating how expensive a restaurant's price point is. \n",
    "\n",
    "In the cell below, write a for loop that counts how frequently a given price point appears for the `above_average` dataset"
   ]
  },
  {
   "cell_type": "code",
   "execution_count": 20,
   "id": "verbal-peripheral",
   "metadata": {},
   "outputs": [
    {
     "name": "stdout",
     "output_type": "stream",
     "text": [
      "{'\\\\$': 74, '\\\\$\\\\$': 87, 'Unknown': 134, '\\\\$\\\\$\\\\$': 10, '\\\\$\\\\$\\\\$\\\\$': 1}\n"
     ]
    }
   ],
   "source": [
    "# Create an empty dictionary to store the\n",
    "# counts for each price point\n",
    "abv_avg_prices = {}\n",
    "\n",
    "# Loop over the above average restaurants\n",
    "for restaurant in above_average:\n",
    "\n",
    "    # Isolate the price point for the restuarant\n",
    "    pricepoint = restaurant['price']\n",
    "    \n",
    "    \n",
    "    # Check if the price has been added to the dictionary\n",
    "    if pricepoint in abv_avg_prices:\n",
    "    \n",
    "            # If the price is already a key in the dictionary\n",
    "            # Add one to the count for that price point\n",
    "            abv_avg_prices[pricepoint] = abv_avg_prices[pricepoint]+1\n",
    "            continue\n",
    "            \n",
    "    # If the price has not been added to the dictionary\n",
    "    # Else set the price as the key and the value as the integer `1`\n",
    "    abv_avg_prices[pricepoint] = 1\n",
    "#print(abv_avg_prices)"
   ]
  },
  {
   "cell_type": "markdown",
   "id": "italic-theology",
   "metadata": {},
   "source": [
    "Run the next cell unchanged to test your work!\n",
    "> If the below cell runs without throwing an error, your code is likely correct!"
   ]
  },
  {
   "cell_type": "code",
   "execution_count": 21,
   "id": "romantic-password",
   "metadata": {},
   "outputs": [],
   "source": [
    "assert type(abv_avg_prices) == dict\n",
    "assert len(abv_avg_prices) == 5\n",
    "assert '\\\\$\\\\$\\\\$\\\\$' in abv_avg_prices"
   ]
  },
  {
   "cell_type": "markdown",
   "id": "governing-resistance",
   "metadata": {},
   "source": [
    "**Now reapply the same process, but instead calculate the price point frequencies for the `below_average` dataset.**"
   ]
  },
  {
   "cell_type": "code",
   "execution_count": 22,
   "id": "banner-reward",
   "metadata": {},
   "outputs": [],
   "source": [
    "# Create an empty dictionary to store the\n",
    "# counts for each price point\n",
    "blw_avg_prices = {}\n",
    "\n",
    "# Loop over the below average restaurants\n",
    "for restaurant in below_average:\n",
    "\n",
    "    # Isolate the price point for the restuarant\n",
    "    pricepoint = restaurant['price']\n",
    "    \n",
    "    # Check if the price has been added to the dictionary\n",
    "    if pricepoint in blw_avg_prices:\n",
    "    \n",
    "            # If the price is already a key in the dictionary\n",
    "            # Add one to the count for that price point\n",
    "            blw_avg_prices[pricepoint] = blw_avg_prices[pricepoint]+1\n",
    "            continue\n",
    "            \n",
    "    # If the price has not been added to the dictionary\n",
    "    # Set the price as the key and the value as the integer `1`\n",
    "    blw_avg_prices[pricepoint] = 1\n"
   ]
  },
  {
   "cell_type": "markdown",
   "id": "minimal-accused",
   "metadata": {},
   "source": [
    "Run the next cell unchanged to test your work!\n",
    "> If the below cell runs without throwing an error, your code is likely correct!"
   ]
  },
  {
   "cell_type": "code",
   "execution_count": 23,
   "id": "filled-absolute",
   "metadata": {},
   "outputs": [],
   "source": [
    "assert type(blw_avg_prices) == dict\n",
    "assert len(blw_avg_prices) == 4\n",
    "assert '\\\\$' in blw_avg_prices"
   ]
  },
  {
   "cell_type": "markdown",
   "id": "departmental-attitude",
   "metadata": {},
   "source": [
    "## Create a bar plot that sets the frequency of each price point as the y axis"
   ]
  },
  {
   "cell_type": "code",
   "execution_count": 24,
   "id": "seeing-extension",
   "metadata": {},
   "outputs": [
    {
     "data": {
      "image/png": "[encoded data removed]",
      "text/plain": [
       "<Figure size 1080x360 with 2 Axes>"
      ]
     },
     "metadata": {
      "needs_background": "light"
     },
     "output_type": "display_data"
    }
   ],
   "source": [
    "# Create a matplotlib subplot with 1 row and 2 columns\n",
    "fig, (ax1, ax2) = plt.subplots(figsize=(15,5),ncols=2)\n",
    "\n",
    "# Isolate keys of the below average price count dictionary blw_avg_prices\n",
    "# This will be the x-axis\n",
    "x1 = list(blw_avg_prices.keys())\n",
    "\n",
    "# Isolate the values of the below average price count dictionary\n",
    "# This will be the y-axis\n",
    "y1 = list(blw_avg_prices.values())\n",
    "\n",
    "# Plot the below average price point counts as a bar plot\n",
    "# on the first axis\n",
    "ax1.bar(x1, y1)\n",
    "ax1.set_ylim(0,140)\n",
    "\n",
    "# Set the title for the first axis\n",
    "# to the string \"Below Average\"\n",
    "ax1.set_title('Below Average')\n",
    "\n",
    "# Isolate keys of the above average price count dictionary  abv_avg_prices\n",
    "# This will be the x-axis\n",
    "x2 = list(abv_avg_prices.keys())\n",
    "\n",
    "# Isolate the values of the above average price count dictionary\n",
    "# This will be the y-axis\n",
    "y2 = list(abv_avg_prices.values())\n",
    "\n",
    "# Plot the above average price counts as a bar plot\n",
    "# on the second axis\n",
    "ax2.bar(x2, y2)\n",
    "ax2.set_ylim(0,140)\n",
    "\n",
    "# Set the title for the second axis to \n",
    "# the string 'Above Average'\n",
    "ax2.set_title('Above Average');"
   ]
  },
  {
   "cell_type": "markdown",
   "id": "descending-attribute",
   "metadata": {},
   "source": [
    "**Interpret the above visualization. How does it relate to your client's claims?**"
   ]
  },
  {
   "cell_type": "markdown",
   "id": "f803e027",
   "metadata": {},
   "source": [
    "The most common price point for above average restaurants in the data above is `Unknown`. The second highest is `$$`, with more than `$`. This differs from the below average data, which has more `$` than `$$`. In both groups the higher price ranges are less common. It is difficult to infer much from above average group due to the large number of `Unknown` reviews."
   ]
  },
  {
   "cell_type": "markdown",
   "id": "occupied-westminster",
   "metadata": {},
   "source": [
    "## Analyze restaurant location\n",
    "\n",
    "In the cell below, use the `isolate_values` function to isolate `longitude` and `latitude` for above and below average restaurants."
   ]
  },
  {
   "cell_type": "code",
   "execution_count": 25,
   "id": "maritime-comparative",
   "metadata": {},
   "outputs": [
    {
     "data": {
      "image/png": "[encoded data removed]",
      "text/plain": [
       "<Figure size 1080x432 with 1 Axes>"
      ]
     },
     "metadata": {
      "needs_background": "light"
     },
     "output_type": "display_data"
    }
   ],
   "source": [
    "abv_avg_lon = []\n",
    "abv_avg_lat = []\n",
    "blw_avg_lon = []\n",
    "blw_avg_lat = []\n",
    "\n",
    "# Isolate longitude for above average restaurants\n",
    "abv_avg_lon = isolate_values(above_average,'longitude')\n",
    "\n",
    "# Isolate latitude for above average restaurants\n",
    "abv_avg_lat = isolate_values(above_average,'latitude')\n",
    "\n",
    "# Isolate longitude for below average restaurants\n",
    "blw_avg_lon = isolate_values(below_average,'longitude')\n",
    "\n",
    "\n",
    "# Isolate latitude for below average restaurants\n",
    "blw_avg_lat = isolate_values(below_average,'latitude')\n",
    "\n",
    "plt.figure(figsize=(15,6))\n",
    "plt.scatter(abv_avg_lon, abv_avg_lat, label='Above')\n",
    "plt.scatter(blw_avg_lon, blw_avg_lat, label='Below')\n",
    "plt.legend();"
   ]
  },
  {
   "cell_type": "markdown",
   "id": "intensive-palestine",
   "metadata": {},
   "source": [
    "## Remove the outlier\n",
    "\n",
    "There is one restaurant in the above average dataset with a location dramatically west and south of all other observations. Let's remove that restaurant from the above average dataset and regenerate the scatter plot."
   ]
  },
  {
   "cell_type": "code",
   "execution_count": 26,
   "id": "rocky-wrong",
   "metadata": {},
   "outputs": [],
   "source": [
    "# Create an empty list\n",
    "# that will contain data with\n",
    "# the outlier removed\n",
    "no_outliers = []\n",
    "\n",
    "# Create an empty list to append the outlier\n",
    "outlier = []\n",
    "\n",
    "# Loop over every restaurant in the above average dataset\n",
    "for restaurant in above_average:\n",
    "    \n",
    "    # Isolate the restaurant's longitude\n",
    "    longitude = restaurant['longitude']\n",
    "    \n",
    "    # Check if the longitude value is greater than the integer -90\n",
    "    if longitude > -90:\n",
    "        \n",
    "        # Append the restaurant to the no_outliers list\n",
    "        no_outliers.append(restaurant)\n",
    "        continue\n",
    "        \n",
    "    # If longitude is less than -90 it is an outlier\n",
    "    # and should be appended to the outlier list\n",
    "    outlier.append(restaurant)"
   ]
  },
  {
   "cell_type": "markdown",
   "id": "material-psychology",
   "metadata": {},
   "source": [
    "Run the next cell unchanged to test your work!\n",
    "> If the below cell runs without throwing an error, your code is likely correct!"
   ]
  },
  {
   "cell_type": "code",
   "execution_count": 27,
   "id": "crude-medicine",
   "metadata": {},
   "outputs": [],
   "source": [
    "assert type(no_outliers) == list\n",
    "assert type(outlier) == list\n",
    "assert len(no_outliers) == len(above_average) - 1\n",
    "assert len(outlier) == 1"
   ]
  },
  {
   "cell_type": "markdown",
   "id": "colored-retreat",
   "metadata": {},
   "source": [
    "Now regenerate the longitude and latitude for above average restaurants using the `no_outliers` dataset, and regenerate the scatter plot!"
   ]
  },
  {
   "cell_type": "code",
   "execution_count": 28,
   "id": "black-tunnel",
   "metadata": {},
   "outputs": [
    {
     "data": {
      "image/png": "[encoded data removed]",
      "text/plain": [
       "<Figure size 1080x432 with 1 Axes>"
      ]
     },
     "metadata": {
      "needs_background": "light"
     },
     "output_type": "display_data"
    }
   ],
   "source": [
    "abv_avg_lon = isolate_values(no_outliers,'longitude')\n",
    "abv_avg_lat = isolate_values(no_outliers,'latitude')\n",
    "\n",
    "plt.figure(figsize=(15,6))\n",
    "plt.scatter(abv_avg_lon, abv_avg_lat, label='Above')\n",
    "plt.scatter(blw_avg_lon, blw_avg_lat, label='Below')\n",
    "plt.legend();"
   ]
  },
  {
   "cell_type": "markdown",
   "id": "assured-darkness",
   "metadata": {},
   "source": [
    "Nice. This is much more interesting. "
   ]
  },
  {
   "cell_type": "markdown",
   "id": "everyday-president",
   "metadata": {},
   "source": [
    "## Plot the distribution of latitude and longitude\n",
    "\n",
    "To get a better sense about how latitude and longitude are working, in the cell below plot histograms for latitude and longitude."
   ]
  },
  {
   "cell_type": "code",
   "execution_count": 29,
   "id": "empirical-contract",
   "metadata": {},
   "outputs": [
    {
     "data": {
      "image/png": "[encoded data removed]",
      "text/plain": [
       "<Figure size 1080x360 with 2 Axes>"
      ]
     },
     "metadata": {
      "needs_background": "light"
     },
     "output_type": "display_data"
    }
   ],
   "source": [
    "# Create a matplotlib subplot with 1 row and 2 columns\n",
    "fig, (ax1, ax2) = plt.subplots(figsize=(15,5),ncols=2)\n",
    "\n",
    "# Plot a histogram of above average longitude\n",
    "# on the first subplot axis. Set alpha to .6\n",
    "# Set label to the string \"Above\"\n",
    "ax1.hist(abv_avg_lon, alpha=.6, label='Above')\n",
    "\n",
    "# Plot a histogram of below average longitude\n",
    "# on the first subplot axis. Set alpha to .6\n",
    "# Set label to the string \"Below\"\n",
    "ax1.hist(blw_avg_lon, alpha=.6, label='Below')\n",
    "\n",
    "# Set the title for the first subplot axis\n",
    "# to the string \"Longitude\"\n",
    "ax1.set_title('Longitude')\n",
    "ax1.legend()\n",
    "\n",
    "# Plot a histogram of above average latitude\n",
    "# on the second subplot axis. Set alpha to .6\n",
    "# Set label to the string \"Above\"\n",
    "ax2.hist(abv_avg_lat, alpha=.6, label='Above')\n",
    "\n",
    "# Plot a histogram of below average latitude\n",
    "# on the second subplot axis. Set alpha to .6\n",
    "# Set label to the string \"Below\"\n",
    "ax2.hist(blw_avg_lat, alpha=.6, label='Below')\n",
    "\n",
    "# Set the title for the second subplot axis\n",
    "# to the string \"Latitude\"\n",
    "ax2.set_title('Latitude')\n",
    "ax2.legend();"
   ]
  },
  {
   "cell_type": "markdown",
   "id": "durable-royalty",
   "metadata": {},
   "source": [
    "**Interpret the above visualization. How does it relate to your client's claims?**"
   ]
  },
  {
   "cell_type": "markdown",
   "id": "optimum-american",
   "metadata": {},
   "source": [
    "The longitude data above shows that although there is some overlap, the majority of above average restaurants are further east than below average restaurants. On the other hand, the latitude data is far more similar with little difference between North and South."
   ]
  },
  {
   "cell_type": "markdown",
   "id": "extra-lithuania",
   "metadata": {},
   "source": [
    "## Find the most common zipcode for above average restaurants\n",
    "\n",
    "In the cell below, loop over the restaurants in the above average dataset and count the frequency of the restaurants zipcode."
   ]
  },
  {
   "cell_type": "code",
   "execution_count": 34,
   "id": "afraid-appendix",
   "metadata": {},
   "outputs": [
    {
     "name": "stdout",
     "output_type": "stream",
     "text": [
      "104\n"
     ]
    }
   ],
   "source": [
    "# Create an empty dictionary\n",
    "# This dictionary will hold the counts\n",
    "# for each zipcode\n",
    "abv_avg_zip_cnts = {}\n",
    "\n",
    "# Loop over the above average dataset\n",
    "for restaurant in above_average:\n",
    "    \n",
    "    # Isolate the restaurant's zipcode \n",
    "    zip = restaurant['location']['zip_code']\n",
    "    \n",
    "    # Check if the zipcode is a key in the dictionary\n",
    "    if zip in abv_avg_zip_cnts:\n",
    "        \n",
    "        # Add one to the zipcode's value\n",
    "        abv_avg_zip_cnts[zip] +=1\n",
    "        continue\n",
    "    \n",
    "    # If the zipcode is not a key\n",
    "    # add it to the dictionary with a value of 1\n",
    "    abv_avg_zip_cnts[zip] = 1\n"
   ]
  },
  {
   "cell_type": "markdown",
   "id": "comfortable-clear",
   "metadata": {},
   "source": [
    "Run the next cell unchanged to test your work!\n",
    "> If the below cell runs without throwing an error, your code is likely correct!"
   ]
  },
  {
   "cell_type": "code",
   "execution_count": 35,
   "id": "subtle-outside",
   "metadata": {},
   "outputs": [],
   "source": [
    "assert type(abv_avg_zip_cnts) == dict\n",
    "assert len(abv_avg_zip_cnts) == 104 or len(abv_avg_zip_cnts) == 103\n",
    "assert '10012' in abv_avg_zip_cnts"
   ]
  },
  {
   "cell_type": "markdown",
   "id": "comparative-ribbon",
   "metadata": {},
   "source": [
    "Now loop over the `abv_avg_zip_cnts` dictionary and find the zipcode with the largest count. \n",
    "\n",
    "For this question, there are multiple ways to find the solution. Comments have not been provided."
   ]
  },
  {
   "cell_type": "code",
   "execution_count": 36,
   "id": "early-vertex",
   "metadata": {},
   "outputs": [
    {
     "name": "stdout",
     "output_type": "stream",
     "text": [
      "10014\n",
      "Zip code 10014 has 13 above average rated restaurants.\n",
      "Zip code 10012 has 10 above average rated restaurants.\n"
     ]
    }
   ],
   "source": [
    "# Your code here\n",
    "#solve without looping\n",
    "print(max(abv_avg_zip_cnts, key=abv_avg_zip_cnts.get))\n",
    "\n",
    "#solve with loop\n",
    "#declare max variables\n",
    "max_key = None\n",
    "max_val = None\n",
    "\n",
    "#loop through abv_avg_zip_cnts\n",
    "for key, val in abv_avg_zip_cnts.items():\n",
    "    \n",
    "    #if it is first runthrough (max_val is still = none) or current val is larger than max val, update variables.\n",
    "    if max_val is None or val > max_val:\n",
    "        max_val = val\n",
    "        max_key = key\n",
    "\n",
    "print(f'Zip code {max_key} has {max_val} above average rated restaurants.' )\n",
    "\n",
    "print(f'Zip code 10012 has {abv_avg_zip_cnts[\"10012\"]} above average rated restaurants.')\n",
    "    "
   ]
  },
  {
   "cell_type": "markdown",
   "id": "careful-vegetarian",
   "metadata": {},
   "source": [
    "**Interpret the results. How does the most frequent zipcode relate to your client's claims?**"
   ]
  },
  {
   "cell_type": "markdown",
   "id": "auburn-division",
   "metadata": {},
   "source": [
    "The Zip Code with the largest number of above average restaurants is `10014`. This disagrees with the clients data."
   ]
  },
  {
   "cell_type": "markdown",
   "id": "brave-venture",
   "metadata": {},
   "source": [
    "## Compile your findings into a report\n",
    "\n",
    "You have address all of your client's claims! In the cell below, describe the findings of your analysis."
   ]
  },
  {
   "cell_type": "markdown",
   "id": "effective-disclaimer",
   "metadata": {},
   "source": [
    "## Client Goal : \n",
    "To establish a new restaurant in New York City that will will achieve an above average Yelp rating. The client came to us with a number of theories about restaurants in New York City, based on their experience running restaurants in other cities, as well as from advice from other sources. They asked us to review these theories so they could make informed decision.\n",
    "\n",
    "## Modeling and Data : \n",
    "To assist in the decision making required to achieve this goal, I have used Python to analyse the Yelp data for `1000` New York City restaurants. \n",
    "\n",
    "## Results :\n",
    "I confirmed the range of ratings within the data. It ranged from `1` to `5` which was as expected.\n",
    "\n",
    "I examined the clients first query regarding the average Yelp rating for restaurants in New York City. In their experience, cities have had an average Yelp rating of 3, and they wanted to know if this was true for New York City. Using the Histogram above I showed that the majority of restaurants ratings fell above `3`, and confirmed that the average rating was approximatly 4. This is higher than in other cities the client has worked in.\n",
    "\n",
    "Based on this I detemined that above average reviews would be `4.5` or higher, and that below average reviews would be `3.5` or lower.\n",
    "\n",
    "The clients noted that successful restaurants had a high number of reviews and believe that increasing the number of reviews they receive will ensure an increased Yelp rating. To examine this I created a pair of histograms that compared the number of reviews received by Above and Below average restaurants. The results appeared very similar, with the majority of both groups receiving between 0 and 500 reviews. The majority of data for both histograms fell within a single column. Ensuring the vertical scale of both figures matched, did not provide sufficient clarity. At first glance it appears as if the numbers for Above Average restaurants were higher than those of Below Average restaurants which would support the clients theory. Recognising that each histogram column represents a count of all values within its horizontal range I decided I needed a more relevant measure.\n",
    "\n",
    "I calculated the mean review count for both groups. The mean review count for Above Average restaurants was `189.39`. Which was  lower than for Below Average restaurants with `286.0`. This data suggest the opposite of what the client expected.\n",
    "As such they should not focus on increasing their review count as a method for achieving an Above Average Yelp rating.\n",
    "\n",
    "The client believes the majority of Above Average restaurants have a `$$` price point and are considering increasing their own price point to match. To explore this, I created a pair of bar charts that show the counts of each price point for Above and Below Average restaurants. Both groups had nearly identical counts at the `$$` price point. The Below Average group had more `$`price points and the Above Average group had less. Of note, the highest price point for Above Average restaurants was 'Unknown'.\n",
    "\n",
    "This decrease in `$` restaurants in the Above Average group may support an increase in price point. However I would recommend further research to clarify the unknown price points in the group. As the majority are unknown it is difficult to interpret the data in a useful way.\n",
    "\n",
    "When considering locations for their restaurant, the client had been informed that restaurants were more likely to be Above Average the further East they were situated in New York City . They were also told that the biggest difference was between the North and South sides of the city. To examine this I created a scatter plot of both Above and Below Average restaurants Longitude (East West) and Latitude (North South) values. This would provide a similar layout to their position on an actual map. Initially this was impacted by a single Above Average restaurant that fell well to the South West of the other data causing the plot to be difficult to read. This outlier was removed, which resulted in a much more useful diagram that supported the clients information regarding the link between Above Average restaurants being more likely in the East of the city.\n",
    "\n",
    "To provide additional clarity I overlayed the Above and Below Average Longitudes on one histogram and the Latitudes on another. This provided further support for the East side's Above Average restaurant count, however there was little evidence of a similar distinction between the North and South sides.\n",
    "\n",
    "Finally the client believed that the Zip Code with the most Above Average restaurants was `10012`. I identified that there were `10` Above Average restaurants in Zip Code `10012`, however there were `13` in Zip Code `10014`.\n",
    "\n",
    "## Summary :\n",
    "In summary, restaurants in New York have a higher average Yelp rating than that expected by the client. Pushing to increase reveiew numbers is not supported by the data. A low number of positive reviews will be better than more negative reviews. Due to the high number of 'unknown' price points for above average restaurants, price point does not seem like a good predictor of Yelp rating, however further research to clarify price points might be useful. When considering locations, the data supported the theory that above average restaurants tended to be situated on the east side of the city, however did not support any difference between the north and south sides. Finally the suburb with the greatest number of above average restaurants was `10014`. "
   ]
  },
  {
   "cell_type": "markdown",
   "id": "neural-aurora",
   "metadata": {},
   "source": [
    "# Summary\n",
    "\n",
    "Well done! As you can see, manipulating nested data stuctures can be a challenging task. Pulling information from json objects requires a thoughtful inspection of how the data is organized, and code that allows you to avoid repetition."
   ]
  }
 ],
 "metadata": {
  "kernelspec": {
   "display_name": "Python 3 (ipykernel)",
   "language": "python",
   "name": "python3"
  },
  "language_info": {
   "codemirror_mode": {
    "name": "ipython",
    "version": 3
   },
   "file_extension": ".py",
   "mimetype": "text/x-python",
   "name": "python",
   "nbconvert_exporter": "python",
   "pygments_lexer": "ipython3",
   "version": "3.9.7"
  }
 },
 "nbformat": 4,
 "nbformat_minor": 5
}
